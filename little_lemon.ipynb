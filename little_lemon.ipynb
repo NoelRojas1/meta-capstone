{
 "cells": [
  {
   "cell_type": "code",
   "execution_count": 1,
   "id": "55688e4e-8034-4103-b9f7-0dbea8b09c44",
   "metadata": {},
   "outputs": [],
   "source": [
    "import mysql.connector as connector"
   ]
  },
  {
   "cell_type": "code",
   "execution_count": 2,
   "id": "06cef7bc-427b-4ba1-8c1c-430e9d43483b",
   "metadata": {},
   "outputs": [],
   "source": [
    "connection = connector.connect(user=\"********\", password=\"********\", port=3306, host=\"localhost\", database=\"little_lemon\")"
   ]
  },
  {
   "cell_type": "code",
   "execution_count": 3,
   "id": "a51f0f26-3f82-4c2d-95cd-86b503948776",
   "metadata": {},
   "outputs": [
    {
     "name": "stdout",
     "output_type": "stream",
     "text": [
      "('bookings',)\n",
      "('customers',)\n",
      "('menu_items',)\n",
      "('menu_items_menus',)\n",
      "('menus',)\n",
      "('order_delivery_status',)\n",
      "('orders',)\n",
      "('staff_information',)\n"
     ]
    }
   ],
   "source": [
    "cursor = connection.cursor()\n",
    "show_tables_query = \"SHOW tables\" \n",
    "cursor.execute(show_tables_query)\n",
    "results = cursor.fetchall()\n",
    "for table in results:\n",
    "    print(table)"
   ]
  },
  {
   "cell_type": "code",
   "execution_count": 4,
   "id": "c6ed8fe2-8f73-4340-9ea7-e0894cc18d11",
   "metadata": {},
   "outputs": [
    {
     "name": "stdout",
     "output_type": "stream",
     "text": [
      "('Alan', 'Iverson', '0757536371', 'alan.iverson@gmail.com')\n"
     ]
    }
   ],
   "source": [
    "promo_sql = \"\"\"\n",
    "    SELECT c.first_name, c.last_name, c.phone_number, c.email\n",
    "    FROM customers AS c\n",
    "    JOIN orders AS o\n",
    "    WHERE o.total_cost > 60.00 AND o.customer_id = c.customer_id;\n",
    "\"\"\"\n",
    "\n",
    "cursor.execute(promo_sql)\n",
    "results = cursor.fetchall()\n",
    "for row in results:\n",
    "    print(row)"
   ]
  },
  {
   "cell_type": "code",
   "execution_count": 5,
   "id": "7513839c-1ef6-44b7-99ea-7516d0a2d0e5",
   "metadata": {},
   "outputs": [],
   "source": [
    "cursor.close()\n",
    "connection.close()"
   ]
  },
  {
   "cell_type": "code",
   "execution_count": null,
   "id": "489b073d-6399-45b5-acea-16198097de5c",
   "metadata": {},
   "outputs": [],
   "source": []
  }
 ],
 "metadata": {
  "kernelspec": {
   "display_name": "Python 3 (ipykernel)",
   "language": "python",
   "name": "python3"
  },
  "language_info": {
   "codemirror_mode": {
    "name": "ipython",
    "version": 3
   },
   "file_extension": ".py",
   "mimetype": "text/x-python",
   "name": "python",
   "nbconvert_exporter": "python",
   "pygments_lexer": "ipython3",
   "version": "3.9.13"
  }
 },
 "nbformat": 4,
 "nbformat_minor": 5
}
