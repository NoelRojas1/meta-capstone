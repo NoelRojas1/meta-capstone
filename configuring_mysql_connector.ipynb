{
 "cells": [
  {
   "cell_type": "markdown",
   "id": "d4f8b544-b158-46bc-b10b-cca632a2d189",
   "metadata": {},
   "source": [
    "## To install MySQL Connector run `!pip install mysql-connector-python`"
   ]
  },
  {
   "cell_type": "code",
   "execution_count": 1,
   "id": "9d846d43-0b92-4db1-8519-975e42432f2f",
   "metadata": {},
   "outputs": [
    {
     "name": "stdout",
     "output_type": "stream",
     "text": [
      "Collecting mysql-connector-python\n",
      "  Downloading mysql_connector_python-9.2.0-cp39-cp39-win_amd64.whl (16.1 MB)\n",
      "     --------------------------------------- 16.1/16.1 MB 34.5 MB/s eta 0:00:00\n",
      "Installing collected packages: mysql-connector-python\n",
      "Successfully installed mysql-connector-python-9.2.0\n"
     ]
    },
    {
     "name": "stderr",
     "output_type": "stream",
     "text": [
      "WARNING: You are using pip version 22.0.4; however, version 25.0 is available.\n",
      "You should consider upgrading via the 'C:\\Users\\noela\\AppData\\Local\\Microsoft\\WindowsApps\\PythonSoftwareFoundation.Python.3.9_qbz5n2kfra8p0\\python.exe -m pip install --upgrade pip' command.\n"
     ]
    }
   ],
   "source": [
    "!pip install mysql-connector-python"
   ]
  },
  {
   "cell_type": "markdown",
   "id": "aead53c4-db57-426e-9639-64437dde2123",
   "metadata": {},
   "source": [
    "# To make sure the package installed properly, run `import mysql.connector as connector`"
   ]
  },
  {
   "cell_type": "code",
   "execution_count": 2,
   "id": "c8dc412c-ad9e-479d-bf93-4bd80b101fcd",
   "metadata": {},
   "outputs": [],
   "source": [
    "import mysql.connector as connector"
   ]
  },
  {
   "cell_type": "code",
   "execution_count": 3,
   "id": "dda655d9-309e-402b-96a4-c51640c5e641",
   "metadata": {},
   "outputs": [],
   "source": [
    "connection = connector.connect(user=\"*****\", password=\"*****\", port=3306, host=\"localhost\", database=\"little_lemon\")"
   ]
  },
  {
   "cell_type": "code",
   "execution_count": 4,
   "id": "528dfd52-4b07-4df8-94a7-6bb03b67cf51",
   "metadata": {
    "scrolled": true
   },
   "outputs": [
    {
     "name": "stdout",
     "output_type": "stream",
     "text": [
      "('bookings',)\n",
      "('customers',)\n",
      "('menu_items',)\n",
      "('menu_items_menus',)\n",
      "('menus',)\n",
      "('order_delivery_status',)\n",
      "('orders',)\n",
      "('staff_information',)\n"
     ]
    }
   ],
   "source": [
    "cursor = connection.cursor()\n",
    "show_tables_query = \"SHOW tables\" \n",
    "cursor.execute(show_tables_query)\n",
    "results = cursor.fetchall()\n",
    "for table in results:\n",
    "    print(table)"
   ]
  },
  {
   "cell_type": "code",
   "execution_count": 5,
   "id": "a559caab-5c66-4bc9-ace1-4da655f931d6",
   "metadata": {},
   "outputs": [
    {
     "name": "stdout",
     "output_type": "stream",
     "text": [
      "('Alan', 'Iverson', '0757536371', 'alan.iverson@gmail.com')\n"
     ]
    }
   ],
   "source": [
    "promo_sql = \"\"\"\n",
    "    SELECT c.first_name, c.last_name, c.phone_number, c.email\n",
    "    FROM customers AS c\n",
    "    JOIN orders AS o\n",
    "    WHERE o.total_cost > 60.00 AND o.customer_id = c.customer_id;\n",
    "\"\"\"\n",
    "\n",
    "cursor.execute(promo_sql)\n",
    "results = cursor.fetchall()\n",
    "for row in results:\n",
    "    print(row)"
   ]
  },
  {
   "cell_type": "code",
   "execution_count": 6,
   "id": "d0cce452-8486-4358-8fe1-5be03636eaa6",
   "metadata": {},
   "outputs": [],
   "source": [
    "cursor.close()\n",
    "connection.close()"
   ]
  },
  {
   "cell_type": "code",
   "execution_count": null,
   "id": "901ff431-13d6-47dd-a311-785829948b4a",
   "metadata": {},
   "outputs": [],
   "source": []
  }
 ],
 "metadata": {
  "kernelspec": {
   "display_name": "Python 3 (ipykernel)",
   "language": "python",
   "name": "python3"
  },
  "language_info": {
   "codemirror_mode": {
    "name": "ipython",
    "version": 3
   },
   "file_extension": ".py",
   "mimetype": "text/x-python",
   "name": "python",
   "nbconvert_exporter": "python",
   "pygments_lexer": "ipython3",
   "version": "3.9.13"
  }
 },
 "nbformat": 4,
 "nbformat_minor": 5
}
